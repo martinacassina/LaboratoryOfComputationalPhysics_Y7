{
 "cells": [
  {
   "cell_type": "markdown",
   "metadata": {},
   "source": [
    "## Pandas analysis\n",
    "\n",
    "This exercise consists in analyzing a dataset containg timing information from a series of Time-to-Digital-Converters (TDC) implemented in a couple of FPGAs. Each measurement (i.e. each row of the input file) consists of a flag that specifies the type of message ('HEAD', which in this case is always 1), two addresses of the TDC providing the signal ('FPGA' and 'TDC_CHANNEL'), and the timing information ('ORBIT_CNT', 'BX_COUNTER', and 'TDC_MEAS'). Each TDC count corresponds to 25/30 ns, whereas a unit of BX_COUNTER corresponds to 25 ns, and the ORBIT_CNT is increased every 'x' BX_COUNTER. This allows to store the time in a similar way to hours, minutes and seconds."
   ]
  },
  {
   "cell_type": "code",
   "execution_count": 1,
   "metadata": {
    "scrolled": true
   },
   "outputs": [
    {
     "name": "stdout",
     "output_type": "stream",
     "text": [
      "--2024-11-28 08:48:23--  https://www.dropbox.com/s/xvjzaxzz3ysphme/data_000637.txt\n",
      "Resolving www.dropbox.com (www.dropbox.com)... 162.125.69.18, 2620:100:6025:18::a27d:4512\n",
      "Connecting to www.dropbox.com (www.dropbox.com)|162.125.69.18|:443... connected.\n",
      "HTTP request sent, awaiting response... 302 Found\n",
      "Location: https://www.dropbox.com/scl/fi/pkkpoxlm7beasryexpdf8/data_000637.txt?rlkey=rkm2em1v57hewglzelmin21c9 [following]\n",
      "--2024-11-28 08:48:23--  https://www.dropbox.com/scl/fi/pkkpoxlm7beasryexpdf8/data_000637.txt?rlkey=rkm2em1v57hewglzelmin21c9\n",
      "Reusing existing connection to www.dropbox.com:443.\n",
      "HTTP request sent, awaiting response... 302 Found\n",
      "Location: https://uc894e726d5240253db984363800.dl.dropboxusercontent.com/cd/0/inline/CfOaHzbTS9X5NjRp3gwgodSYVHYtLAtG0JnhhaIyn5ZKGVoResh98622dvgSUnX6-FMsxvUDuM2PK-jGKV7QAh_GV3FD4jYznZiBGLP-kOUa-bcFe1L9Nr-WWaxiahYyeWc/file# [following]\n",
      "--2024-11-28 08:48:24--  https://uc894e726d5240253db984363800.dl.dropboxusercontent.com/cd/0/inline/CfOaHzbTS9X5NjRp3gwgodSYVHYtLAtG0JnhhaIyn5ZKGVoResh98622dvgSUnX6-FMsxvUDuM2PK-jGKV7QAh_GV3FD4jYznZiBGLP-kOUa-bcFe1L9Nr-WWaxiahYyeWc/file\n",
      "Resolving uc894e726d5240253db984363800.dl.dropboxusercontent.com (uc894e726d5240253db984363800.dl.dropboxusercontent.com)... 162.125.69.15, 2620:100:6025:15::a27d:450f\n",
      "Connecting to uc894e726d5240253db984363800.dl.dropboxusercontent.com (uc894e726d5240253db984363800.dl.dropboxusercontent.com)|162.125.69.15|:443... connected.\n",
      "HTTP request sent, awaiting response... 200 OK\n",
      "Length: 33179236 (32M) [text/plain]\n",
      "Saving to: ‘/home/martinacassina/data/data_000637.txt’\n",
      "\n",
      "data_000637.txt     100%[===================>]  31.64M  23.8MB/s    in 1.3s    \n",
      "\n",
      "2024-11-28 08:48:26 (23.8 MB/s) - ‘/home/martinacassina/data/data_000637.txt’ saved [33179236/33179236]\n",
      "\n"
     ]
    }
   ],
   "source": [
    "# If you didn't download it yet, please get the relevant file now!\n",
    "!wget https://www.dropbox.com/s/xvjzaxzz3ysphme/data_000637.txt -P ~/data/"
   ]
  },
  {
   "cell_type": "markdown",
   "metadata": {},
   "source": [
    "1\\. Create a Pandas DataFrame reading N rows of the 'data_000637.txt' dataset. Choose N to be smaller than or equal to the maximum number of rows and larger that 10k.\n",
    "\n",
    "2\\. Find out the number of BX in a ORBIT (the value 'x').\n",
    "\n",
    "3\\. Find out how much the data taking lasted. You can either make an estimate based on the fraction of the measurements (rows) you read, or perform this check precisely by reading out the whole dataset.\n",
    "\n",
    "4\\. Create a new column with the absolute time in ns (as a combination of the other three columns with timing information).\n",
    "\n",
    "5\\. Replace the values (all 1) of the HEAD column randomly with 0 or 1.\n",
    "\n",
    "6\\. Create a new DataFrame that contains only the rows with HEAD=1.\n",
    "\n",
    "7\\. Make two occupancy plots (one for each FPGA), i.e. plot the number of counts per TDC channel\n",
    "\n",
    "8\\. Use the groupby method to find out the noisy channels, i.e. the TDC channels with most counts (say the top 3)\n",
    "\n",
    "9\\. Count the number of unique orbits. Count the number of unique orbits with at least one measurement from TDC_CHANNEL=139"
   ]
  },
  {
   "cell_type": "code",
   "execution_count": 4,
   "metadata": {},
   "outputs": [
    {
     "name": "stdout",
     "output_type": "stream",
     "text": [
      "(1310720, 6)\n",
      "The number of BX in a ORBIT is: 3035.5425971180584\n",
      "\n",
      "Data time: 58.36 seconds\n",
      "\n",
      "    ORBIT_CNT  BX_COUNTER  TDC_MEAS  ABSOLUTE_TIME\n",
      "0  3869200167        2374        26   2.936280e+14\n",
      "1  3869200167        2374        27   2.936280e+14\n",
      "2  3869200167        2553        28   2.936280e+14\n",
      "3  3869200167        2558        19   2.936280e+14\n",
      "4  3869200167        2760        25   2.936280e+14 \n",
      "\n",
      "0          0\n",
      "1          1\n",
      "2          1\n",
      "3          1\n",
      "4          1\n",
      "          ..\n",
      "1310715    0\n",
      "1310716    1\n",
      "1310717    0\n",
      "1310718    1\n",
      "1310719    0\n",
      "Name: HEAD, Length: 1310720, dtype: int64\n",
      "\n",
      "          HEAD  FPGA  TDC_CHANNEL   ORBIT_CNT  BX_COUNTER  TDC_MEAS  \\\n",
      "1           1     0          124  3869200167        2374        27   \n",
      "2           1     0           63  3869200167        2553        28   \n",
      "3           1     0           64  3869200167        2558        19   \n",
      "4           1     0           64  3869200167        2760        25   \n",
      "5           1     0           63  3869200167        2762         4   \n",
      "...       ...   ...          ...         ...         ...       ...   \n",
      "1310700     1     0           28  3869211171           9        26   \n",
      "1310703     1     0           25  3869211171          20        13   \n",
      "1310706     1     0           28  3869211171          44        29   \n",
      "1310716     1     1            4  3869211171         763        11   \n",
      "1310718     1     0          139  3869211171         769         0   \n",
      "\n",
      "         ORBIT_CNT_diff  BX_COUNTER_diff  ABSOLUTE_TIME  \n",
      "1                   0.0              0.0   2.936280e+14  \n",
      "2                   0.0            179.0   2.936280e+14  \n",
      "3                   0.0              5.0   2.936280e+14  \n",
      "4                   0.0            202.0   2.936280e+14  \n",
      "5                   0.0              2.0   2.936280e+14  \n",
      "...                 ...              ...            ...  \n",
      "1310700             0.0              2.0   2.936289e+14  \n",
      "1310703             0.0              2.0   2.936289e+14  \n",
      "1310706             0.0              1.0   2.936289e+14  \n",
      "1310716             0.0              1.0   2.936289e+14  \n",
      "1310718             0.0              5.0   2.936289e+14  \n",
      "\n",
      "[656053 rows x 9 columns]\n"
     ]
    }
   ],
   "source": [
    "import pandas as pd\n",
    "import numpy as np\n",
    "file_name=\"/mnt/c/Users/macas/Desktop/High level programming/data_000637.txt\"\n",
    "\n",
    "#1\n",
    "data=pd.read_csv(file_name)\n",
    "num_rows=data.shape\n",
    "print(num_rows)\n",
    "#N have to be larger than 10k and smaller of 1310720\n",
    "N=60000\n",
    "\n",
    "#2\n",
    "data['ORBIT_CNT_diff'] = data['ORBIT_CNT'].diff()  # Difference ORBIT_CNT\n",
    "data['BX_COUNTER_diff'] = data['BX_COUNTER'].diff().abs()  # Positive differences BX_COUNTER\n",
    "# Filtrar solo las filas donde ORBIT_CNT ha cambiado (es decir, ha incrementado)\n",
    "orbit_changes = data[data['ORBIT_CNT_diff'] != 0]\n",
    "bx_per_orbit = orbit_changes['BX_COUNTER_diff'].mean()\n",
    "print(f\"The number of BX in a ORBIT is: {bx_per_orbit}\\n\")\n",
    "\n",
    "\n",
    "#3\n",
    "total_bx=data['BX_COUNTER'].sum()\n",
    "total_time=total_bx*0.025  \n",
    "total_time_sec=total_time/ 1e6\n",
    "print(f\"Data time: {total_time_sec:.2f} seconds\\n\")\n",
    "\n",
    "#4\n",
    "#defining a new column\n",
    "data['ABSOLUTE_TIME']=(data['ORBIT_CNT']*bx_per_orbit*25) + (data['BX_COUNTER']*25) + (data['TDC_MEAS']*25)\n",
    "#verify data\n",
    "print(data[['ORBIT_CNT', 'BX_COUNTER', 'TDC_MEAS', 'ABSOLUTE_TIME']].head(),'\\n')\n",
    "\n",
    "#5\n",
    "data['HEAD'] = np.random.randint(0, 2, len(data))\n",
    "print(data['HEAD'])\n",
    "\n",
    "#6 New Df with only row's HEAD=1\n",
    "new_data = data[data['HEAD'] == 1]\n",
    "print('\\n', new_data)"
   ]
  },
  {
   "cell_type": "code",
   "execution_count": 11,
   "metadata": {},
   "outputs": [
    {
     "data": {
      "image/png": "[encoded data removed]",
      "text/plain": [
       "<Figure size 800x600 with 2 Axes>"
      ]
     },
     "metadata": {},
     "output_type": "display_data"
    }
   ],
   "source": [
    "#7 Two occupancy plots\n",
    "import matplotlib.pyplot as plt\n",
    "\n",
    "# Filtrar datos por cada FPGA\n",
    "fpga_0_data = data[data['FPGA'] == 0]\n",
    "fpga_1_data = data[data['FPGA'] == 1]\n",
    "\n",
    "# Count ocurrencies for each channel TDC for each FPGA \n",
    "fpga_0_counts = fpga_0_data['TDC_CHANNEL'].value_counts()\n",
    "fpga_1_counts = fpga_1_data['TDC_CHANNEL'].value_counts()\n",
    "\n",
    "fig, axes = plt.subplots(2, 1, figsize=(8, 6), sharex=True)\n",
    "\n",
    "# FPGA 0\n",
    "axes[0].bar(fpga_0_counts.index, fpga_0_counts.values, color='blue', alpha=0.7)\n",
    "axes[0].set_title('Occupancy Plot for FPGA 0')\n",
    "axes[0].set_xlabel('TDC Channel')\n",
    "axes[0].set_ylabel('Counts')\n",
    "\n",
    "# FPGA 1\n",
    "axes[1].bar(fpga_1_counts.index, fpga_1_counts.values, color='green', alpha=0.7)\n",
    "axes[1].set_title('Occupancy Plot for FPGA 1')\n",
    "axes[1].set_xlabel('TDC Channel')\n",
    "axes[1].set_ylabel('Counts')\n",
    "\n",
    "plt.tight_layout()\n",
    "plt.show()\n"
   ]
  },
  {
   "cell_type": "code",
   "execution_count": 12,
   "metadata": {},
   "outputs": [
    {
     "name": "stdout",
     "output_type": "stream",
     "text": [
      "TDC_CHANNEL\n",
      "139    108059\n",
      "64      66020\n",
      "63      64642\n",
      "dtype: int64\n"
     ]
    }
   ],
   "source": [
    "#8 Find out the noisy channels\n",
    "channel_counts = data.groupby('TDC_CHANNEL').size()\n",
    "top_nchannels = channel_counts.sort_values(ascending=False).head(3)\n",
    "print(top_nchannels)\n"
   ]
  },
  {
   "cell_type": "code",
   "execution_count": 13,
   "metadata": {},
   "outputs": [
    {
     "name": "stdout",
     "output_type": "stream",
     "text": [
      "Total unique orbits: 11001\n",
      "Unique orbits with at least one measurement from TDC_CHANNEL=139: 10976\n"
     ]
    }
   ],
   "source": [
    "#9 total unique orbits and TDC =139\n",
    "total_uorbits = data['ORBIT_CNT'].nunique()\n",
    "filtered_data = data[data['TDC_CHANNEL'] == 139]\n",
    "\n",
    "uorbits_139 = filtered_data['ORBIT_CNT'].nunique()\n",
    "print(f\"Total unique orbits: {total_uorbits}\")\n",
    "print(f\"Unique orbits with at least one measurement from TDC_CHANNEL=139: {uorbits_139}\")\n"
   ]
  },
  {
   "cell_type": "code",
   "execution_count": null,
   "metadata": {},
   "outputs": [],
   "source": []
  }
 ],
 "metadata": {
  "kernelspec": {
   "display_name": "Python 3 (ipykernel)",
   "language": "python",
   "name": "python3"
  },
  "language_info": {
   "codemirror_mode": {
    "name": "ipython",
    "version": 3
   },
   "file_extension": ".py",
   "mimetype": "text/x-python",
   "name": "python",
   "nbconvert_exporter": "python",
   "pygments_lexer": "ipython3",
   "version": "3.12.3"
  }
 },
 "nbformat": 4,
 "nbformat_minor": 4
}
