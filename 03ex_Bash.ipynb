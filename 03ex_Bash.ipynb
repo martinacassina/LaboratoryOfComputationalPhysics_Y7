{
 "cells": [
  {
   "cell_type": "markdown",
   "id": "b5746bd0",
   "metadata": {},
   "source": [
    "The following exercises are meant to be solved by gathering the bash commands incrimentally in two scripts, one for ex 1.* the other for ex 2.* "
   ]
  },
  {
   "cell_type": "markdown",
   "id": "4e60de78",
   "metadata": {},
   "source": [
    "### Ex 1"
   ]
  },
  {
   "cell_type": "markdown",
   "id": "6759df36",
   "metadata": {},
   "source": [
    "1\\.a Make a new directory called `students` in your home. Download a csv file with the list of students of this lab from [here](https://www.dropbox.com/s/867rtx3az6e9gm8/LCP_22-23_students.csv) (use the `wget` command) and copy that to `students`. First check whether the file is already there"
   ]
  },
  {
   "cell_type": "code",
   "execution_count": 13,
   "id": "f4e092af-8555-479c-a8c9-2998d9139d47",
   "metadata": {},
   "outputs": [
    {
     "name": "stdout",
     "output_type": "stream",
     "text": [
      "mv: cannot stat '/mnt/c/Users/macas/Desktop/High level programming/LCP_22-23_students.csv': No such file or directory\n",
      "LCP_22-23_students.csv\tstudents.csv\n"
     ]
    }
   ],
   "source": [
    "!mkdir -p ~/students\n",
    "!mv \"/mnt/c/Users/macas/Desktop/High level programming/LCP_22-23_students.csv\" ~/students/ #moving file from programming to students\n",
    "!ls ~/students #checking if is there\n"
   ]
  },
  {
   "cell_type": "markdown",
   "id": "798c0c9d",
   "metadata": {},
   "source": [
    "1\\.b Make two new files, one containing the students belonging to PoD, the other to Physics."
   ]
  },
  {
   "cell_type": "code",
   "execution_count": 20,
   "id": "4a0b3ef8-6060-4baf-90d3-ddefc7108091",
   "metadata": {},
   "outputs": [
    {
     "name": "stdout",
     "output_type": "stream",
     "text": [
      "Family name(s),Given name(s),E-mail,Master program\n",
      "Akkara,Jelin Raphael,jelinraphael.akkara@studenti.unipd.it,PoD\n",
      "Altamirano,Davide,davidalejandro.altamiranocoello@studenti.unipd.it,PoD\n",
      "Badami,Hessan,mohammadhessan.badami@studenti.unipd.it,PoD\n",
      "Baghaei Saryazdi,Fateme,fateme.baghaeisaryazdi@studenti.unipd.it,PoD\n",
      "Barbiero,Lorenzo,lorenzo.barbiero.1@studenti.unipd.it,PoD\n",
      "Bedin,Veronica,veronica.bedin.1@studenti.unipd.it,PoD\n",
      "Benito,Guillermo,guillermo.benitocalvino@studenti.unipd.it,PoD\n",
      "Bertininelli,Gabriele,gabriele.bertinelli@studenti.unipd.it,PoD\n",
      "Bertola,Tommaso,tommaso.bertola@studenti.unipd.it,PoD\n",
      "Bhatti,Roben,roben.bhatti@studenti.unipd.it,PoD\n",
      "Bonato,Diego,diego.bonato.1@studenti.unipd.it,PoD\n",
      "Bordin,Guglielmo,guglielmo.bordin@studenti.unipd.it,PoD\n",
      "Breccia,Alessandro,alessandro.breccia@studenti.unipd.it,PoD\n",
      "Brisigotti,Erica,10698739@unipd.it / ericabrisigotti@gmail.com,PoD\n",
      "Bucalo,Edoardo,edoardorenato.bucalo@studenti.unipd.it,Physics\n",
      "Checchia,Davide,davide.checchia@studenti.unipd.it,PoD\n",
      "Chiloiro,Marco,marco.chiloiro@studenti.unipd.it,PoD\n",
      "Chueva,Ekaterina ,ekaterina.chueva@studenti.unipd.it,PoD\n",
      "Dall'Ara ,Marco ,marco.dallara.1@studenti.unipd.it,PoD\n",
      "Davide,Bacilieri,davide.bacilieri@studenti.unipd.it,PoD\n",
      "De Vita,Andrea,andrea.devita.1@studenti.unipd.it,PoD\n",
      "Di Prima,Giacomo,giacomo.diprima@studenti.unipd.it,PoD\n",
      "Divari,Carlo,carlo.divari@studenti.unipd.it,PoD\n",
      "Dodampe Gamage,Eran,erankawinda.dodampegamage@studenti.unipd.it,PoD\n",
      "Eslami shafigh,Ehsan,ehsan.eslamishafigh@studenti.unipd.it,PoD\n",
      "Fedon Vocaturo,Marina,marina.fedonvocaturo@studenti.unipd.it,Physics\n",
      "Feltrin,Antonio,antonio.feltrin@studenti.unipd.it,PoD\n",
      "Forza,Camilla,camilla.forza@studenti.unipd.it,Physics\n",
      "Garbo ,Anna,anna.garbo.2@studenti.unipd.it,PoD\n",
      "Ghaemifar,Sepideh,sepideh.ghaemifar@studenti.unipd.it,PoD\n",
      "Golan,Rodrigo,rodrigo.golan@studenti.unipd.it,PoD\n",
      "Guercio,Tommaso,tommaso.guercio@studenti.unipd.it,PoD\n",
      "Hatamjahromi,Roozbeh,Roozbeh.hatam1377@gmail.com  /   10675931@unipd.it,PoD\n",
      "Isotton,Gloria,gloria.isotton@studenti.unipd.it,PoD\n",
      "Javid,Kiamehr,kiamehr.javid@studenti.unipd.it,PoD\n",
      "Kumar,Prince,prince.kumar@studenti.unipd.it,PoD\n",
      "La Delfa ,Niccolò ,niccolo.ladelfa@studenti.unipd.it,PoD\n",
      "Lui,Riccardo ,riccardo.lui@studenti.unipd.it,PoD\n",
      "Lupi,Enrico,enrico.lupi@studenti.unipd.it,PoD\n",
      "Marchetti,Andrea,andrea.marchetti.5@studenti.unipd.it,PoD\n",
      "Mengoni,Leon,leon.mengoni@studenti.unipd.it,PoD\n",
      "Menti,Luca,luca.menti@studenti.unipd.it,PoD\n",
      "Merlin,Giovanni,giovanni.merlin@studenti.unipd.it,PoD\n",
      "Meza,Stefano,stefanorafael.mezaanzules@studenti.unipd.it,PoD\n",
      "Miranda,Manfredi,manfredi.miranda@studenti.unipd.it,PoD\n",
      "Munafò,Sara,sara.munafo@studenti.unipd.it,PoD\n",
      "Pacheco,Sofia,sofia.pachecogarcia@studenti.unipd.it,PoD\n",
      "Panagiotakis,Konstantinos,konstantinos.panagiotakis@studenti.unipd.it,POD\n",
      "Pasian,Francisco,franciscoariel.pasian@studenti.unipd.it,PoD\n",
      "Peter,Maximilian,10705165@unipd.it / soon: maximilian.peter@studenti.unipd.it,PoD\n",
      "Pitteri,Alessio,alessio.pitteri@studenti.unipd.it,PoD\n",
      "Pra Floriani,Filippo,filippo.prafloriani@studenti.unipd.it,PoD\n",
      "Rostami,Amirhossein,amirhossein.rostami@studenti.unipd.it,PoD\n",
      "Ruffini,Federico,federico.ruffini.1@studenti.unipd.it,Physics\n",
      "Saccomani,Alessio,alessio.saccomani@studenti.unipd.it,PoD\n",
      "Sahputra,Nadillia,nadillia.sahputra@studenti.unipd.it,PoD\n",
      "Sapkas,Michail,michail.sapkas@studenti.unipd.it,PoD\n",
      "Saran Gattorno,Giancarlo,giancarlo.sarangattorno@studenti.unipd.it,PoD\n",
      "Sardo Infirri,Giosuè,giosue.sardoinfirri@studenti.unipd.it,PoD\n",
      "Saretto,Saretto,alberto.saretto.1@studenti.unipd.it,Physics\n",
      "Sarte,Emanuele,emanuele.sarte@studenti.unipd.it,PoD\n",
      "Tancredi ,Riccardo ,riccardo.tancredi@studenti.unipd.it,PoD\n",
      "Toso,Simone,simone.toso.2@studenti.unipd.it,PoD\n",
      "Vatankhahan,Mahdy,mahdy.vatankhahan@studenti.unipd.it,PoD\n",
      "Verguizas I Moliner,Joan,joan.verguizasimoliner@studenti.unipd.it,PoD\n",
      "Viterbo,Giuseppe,giuseppe.viterbo@studenti.unipd.it,PoD\n",
      "Waththe Liyanage,Wageesha Widuranga,wageeshawiduranga.waththeliyanage@studenti.unipd.it,PoD\n",
      "Wickramasinghe Mudiyanselage,Poornima Amali Wickramasinghe,poornimaamaliwickramasinghe.wickramasinghemudiyanselage@studenti.unipd.it,PoD\n",
      "Zago,Giovanni,giovanni.zago.2@studenti.unipd.it,PoD\n",
      "Zal,Abbas,abbas.zal@studenti.unipd.it,PoD\n",
      "Zane,Francesco,francesco.zane.1@studenti.unipd.it,PoD\n",
      "Zenari,Marco,marco.zenari@studenti.unipd.it,PoD\n",
      "Zhang,Qiqi,qiqi.zhang@studenti.unipd.it,PoDLCP_22-23_students.csv\tPhysics_students.csv  PoD_students.csv\tstudents.csv\n"
     ]
    }
   ],
   "source": [
    "!cat ~/students/LCP_22-23_students.csv\n",
    "!grep \"PoD\" ~/students/LCP_22-23_students.csv > ~/students/PoD_students.csv\n",
    "!grep \"Physics\" ~/students/LCP_22-23_students.csv > ~/students/Physics_students.csv\n",
    "!ls ~/students"
   ]
  },
  {
   "cell_type": "code",
   "execution_count": 21,
   "id": "a43d28e5-f117-47a4-a3b7-4121aec34d57",
   "metadata": {},
   "outputs": [
    {
     "name": "stdout",
     "output_type": "stream",
     "text": [
      "Akkara,Jelin Raphael,jelinraphael.akkara@studenti.unipd.it,PoD\n",
      "Altamirano,Davide,davidalejandro.altamiranocoello@studenti.unipd.it,PoD\n",
      "Badami,Hessan,mohammadhessan.badami@studenti.unipd.it,PoD\n",
      "Baghaei Saryazdi,Fateme,fateme.baghaeisaryazdi@studenti.unipd.it,PoD\n",
      "Barbiero,Lorenzo,lorenzo.barbiero.1@studenti.unipd.it,PoD\n",
      "Bedin,Veronica,veronica.bedin.1@studenti.unipd.it,PoD\n",
      "Benito,Guillermo,guillermo.benitocalvino@studenti.unipd.it,PoD\n",
      "Bertininelli,Gabriele,gabriele.bertinelli@studenti.unipd.it,PoD\n",
      "Bertola,Tommaso,tommaso.bertola@studenti.unipd.it,PoD\n",
      "Bhatti,Roben,roben.bhatti@studenti.unipd.it,PoD\n",
      "Bonato,Diego,diego.bonato.1@studenti.unipd.it,PoD\n",
      "Bordin,Guglielmo,guglielmo.bordin@studenti.unipd.it,PoD\n",
      "Breccia,Alessandro,alessandro.breccia@studenti.unipd.it,PoD\n",
      "Brisigotti,Erica,10698739@unipd.it / ericabrisigotti@gmail.com,PoD\n",
      "Checchia,Davide,davide.checchia@studenti.unipd.it,PoD\n",
      "Chiloiro,Marco,marco.chiloiro@studenti.unipd.it,PoD\n",
      "Chueva,Ekaterina ,ekaterina.chueva@studenti.unipd.it,PoD\n",
      "Dall'Ara ,Marco ,marco.dallara.1@studenti.unipd.it,PoD\n",
      "Davide,Bacilieri,davide.bacilieri@studenti.unipd.it,PoD\n",
      "De Vita,Andrea,andrea.devita.1@studenti.unipd.it,PoD\n",
      "Di Prima,Giacomo,giacomo.diprima@studenti.unipd.it,PoD\n",
      "Divari,Carlo,carlo.divari@studenti.unipd.it,PoD\n",
      "Dodampe Gamage,Eran,erankawinda.dodampegamage@studenti.unipd.it,PoD\n",
      "Eslami shafigh,Ehsan,ehsan.eslamishafigh@studenti.unipd.it,PoD\n",
      "Feltrin,Antonio,antonio.feltrin@studenti.unipd.it,PoD\n",
      "Garbo ,Anna,anna.garbo.2@studenti.unipd.it,PoD\n",
      "Ghaemifar,Sepideh,sepideh.ghaemifar@studenti.unipd.it,PoD\n",
      "Golan,Rodrigo,rodrigo.golan@studenti.unipd.it,PoD\n",
      "Guercio,Tommaso,tommaso.guercio@studenti.unipd.it,PoD\n",
      "Hatamjahromi,Roozbeh,Roozbeh.hatam1377@gmail.com  /   10675931@unipd.it,PoD\n",
      "Isotton,Gloria,gloria.isotton@studenti.unipd.it,PoD\n",
      "Javid,Kiamehr,kiamehr.javid@studenti.unipd.it,PoD\n",
      "Kumar,Prince,prince.kumar@studenti.unipd.it,PoD\n",
      "La Delfa ,Niccolò ,niccolo.ladelfa@studenti.unipd.it,PoD\n",
      "Lui,Riccardo ,riccardo.lui@studenti.unipd.it,PoD\n",
      "Lupi,Enrico,enrico.lupi@studenti.unipd.it,PoD\n",
      "Marchetti,Andrea,andrea.marchetti.5@studenti.unipd.it,PoD\n",
      "Mengoni,Leon,leon.mengoni@studenti.unipd.it,PoD\n",
      "Menti,Luca,luca.menti@studenti.unipd.it,PoD\n",
      "Merlin,Giovanni,giovanni.merlin@studenti.unipd.it,PoD\n",
      "Meza,Stefano,stefanorafael.mezaanzules@studenti.unipd.it,PoD\n",
      "Miranda,Manfredi,manfredi.miranda@studenti.unipd.it,PoD\n",
      "Munafò,Sara,sara.munafo@studenti.unipd.it,PoD\n",
      "Pacheco,Sofia,sofia.pachecogarcia@studenti.unipd.it,PoD\n",
      "Pasian,Francisco,franciscoariel.pasian@studenti.unipd.it,PoD\n",
      "Peter,Maximilian,10705165@unipd.it / soon: maximilian.peter@studenti.unipd.it,PoD\n",
      "Pitteri,Alessio,alessio.pitteri@studenti.unipd.it,PoD\n",
      "Pra Floriani,Filippo,filippo.prafloriani@studenti.unipd.it,PoD\n",
      "Rostami,Amirhossein,amirhossein.rostami@studenti.unipd.it,PoD\n",
      "Saccomani,Alessio,alessio.saccomani@studenti.unipd.it,PoD\n",
      "Sahputra,Nadillia,nadillia.sahputra@studenti.unipd.it,PoD\n",
      "Sapkas,Michail,michail.sapkas@studenti.unipd.it,PoD\n",
      "Saran Gattorno,Giancarlo,giancarlo.sarangattorno@studenti.unipd.it,PoD\n",
      "Sardo Infirri,Giosuè,giosue.sardoinfirri@studenti.unipd.it,PoD\n",
      "Sarte,Emanuele,emanuele.sarte@studenti.unipd.it,PoD\n",
      "Tancredi ,Riccardo ,riccardo.tancredi@studenti.unipd.it,PoD\n",
      "Toso,Simone,simone.toso.2@studenti.unipd.it,PoD\n",
      "Vatankhahan,Mahdy,mahdy.vatankhahan@studenti.unipd.it,PoD\n",
      "Verguizas I Moliner,Joan,joan.verguizasimoliner@studenti.unipd.it,PoD\n",
      "Viterbo,Giuseppe,giuseppe.viterbo@studenti.unipd.it,PoD\n",
      "Waththe Liyanage,Wageesha Widuranga,wageeshawiduranga.waththeliyanage@studenti.unipd.it,PoD\n",
      "Wickramasinghe Mudiyanselage,Poornima Amali Wickramasinghe,poornimaamaliwickramasinghe.wickramasinghemudiyanselage@studenti.unipd.it,PoD\n",
      "Zago,Giovanni,giovanni.zago.2@studenti.unipd.it,PoD\n",
      "Zal,Abbas,abbas.zal@studenti.unipd.it,PoD\n",
      "Zane,Francesco,francesco.zane.1@studenti.unipd.it,PoD\n",
      "Zenari,Marco,marco.zenari@studenti.unipd.it,PoD\n",
      "Zhang,Qiqi,qiqi.zhang@studenti.unipd.it,PoD\n"
     ]
    }
   ],
   "source": [
    "!cat ~/students/PoD_students.csv "
   ]
  },
  {
   "cell_type": "code",
   "execution_count": 22,
   "id": "0f64957c-728c-4e33-b315-ed16904f27a6",
   "metadata": {},
   "outputs": [
    {
     "name": "stdout",
     "output_type": "stream",
     "text": [
      "Bucalo,Edoardo,edoardorenato.bucalo@studenti.unipd.it,Physics\n",
      "Fedon Vocaturo,Marina,marina.fedonvocaturo@studenti.unipd.it,Physics\n",
      "Forza,Camilla,camilla.forza@studenti.unipd.it,Physics\n",
      "Ruffini,Federico,federico.ruffini.1@studenti.unipd.it,Physics\n",
      "Saretto,Saretto,alberto.saretto.1@studenti.unipd.it,Physics\n"
     ]
    }
   ],
   "source": [
    "!cat ~/students/Physics_students.csv"
   ]
  },
  {
   "cell_type": "markdown",
   "id": "8a43d622",
   "metadata": {},
   "source": [
    "1\\.c For each letter of the alphabet, count the number of students whose surname starts with that letter. "
   ]
  },
  {
   "cell_type": "code",
   "execution_count": 25,
   "id": "047b9a39-4e23-4fed-947b-dc21151c1bdf",
   "metadata": {},
   "outputs": [
    {
     "name": "stdout",
     "output_type": "stream",
     "text": [
      "      9 A\n",
      "      1 B\n",
      "      2 C\n",
      "      3 D\n",
      "      7 E\n",
      "      5 F\n",
      "     11 G\n",
      "      1 H\n",
      "      2 J\n",
      "      2 K\n",
      "      3 L\n",
      "      8 M\n",
      "      2 N\n",
      "      2 P\n",
      "      1 Q\n",
      "      5 R\n",
      "      6 S\n",
      "      2 T\n",
      "      1 V\n",
      "      1 W\n"
     ]
    }
   ],
   "source": [
    "!cut -d',' -f2 ~/students/LCP_22-23_students.csv > ~/students/surnames.txt #extracting the surnames\n",
    "#f2 is extracting the second column\n",
    "!awk '{print toupper(substr($1,1,1))}' ~/students/surnames.txt | sort | uniq -c\n",
    "\n"
   ]
  },
  {
   "cell_type": "markdown",
   "id": "4ba6bc90",
   "metadata": {},
   "source": [
    "1\\.d Find out which is the letter with most counts."
   ]
  },
  {
   "cell_type": "code",
   "execution_count": 1,
   "id": "91b2f67a-5755-4038-8eea-c7ebf54b0a96",
   "metadata": {},
   "outputs": [
    {
     "name": "stdout",
     "output_type": "stream",
     "text": [
      "     11 G\n"
     ]
    }
   ],
   "source": [
    "!cut -d',' -f2 ~/students/LCP_22-23_students.csv | awk '{print toupper(substr($1,1,1))}' | sort | uniq -c | sort -nr | head -1\n"
   ]
  },
  {
   "cell_type": "markdown",
   "id": "086a043c",
   "metadata": {},
   "source": [
    "1\\.e Assume an obvious numbering of the students in the file (first line is 1, second line is 2, etc.), group students \"modulo 18\", i.e. 1,19,37,.. 2,20,38,.. etc. and put each group in a separate file  "
   ]
  },
  {
   "cell_type": "code",
   "execution_count": 2,
   "id": "ec5aa13c-3239-40a7-8355-f6b0b7eeb1fb",
   "metadata": {},
   "outputs": [
    {
     "name": "stdout",
     "output_type": "stream",
     "text": [
      "^C\n",
      "ls: cannot access '/home/martinacassina/students/groups/': No such file or directory\n"
     ]
    }
   ],
   "source": [
    "!awk -F',' 'NR>1 {print > \"~/students/groups/group_\" (NR%18 ? NR%18 : 18) \".csv\"}' \"$input_file\"\n",
    "!ls ~/students/groups/"
   ]
  },
  {
   "cell_type": "markdown",
   "id": "1d730d21",
   "metadata": {},
   "source": [
    "### Ex 2"
   ]
  },
  {
   "cell_type": "markdown",
   "id": "4b87ecb7",
   "metadata": {},
   "source": [
    "2.a Make a copy of the file `data.csv` removing the metadata and the commas between numbers; call it `data.txt`"
   ]
  },
  {
   "cell_type": "code",
   "execution_count": 7,
   "id": "bf584d92-850f-4604-ab40-8f8cd9c47e84",
   "metadata": {},
   "outputs": [
    {
     "name": "stdout",
     "output_type": "stream",
     "text": [
      "84 1 77 13 33\n",
      "25 71 36 28 98\n",
      "37 85 26 75 25\n",
      "46 7 49 36 11\n",
      "82 65 82 1 82\n"
     ]
    }
   ],
   "source": [
    "#delate the commans and change them to space.\n",
    "!grep -v \"^#\" \"/mnt/c/Users/macas/Desktop/High level programming/data.csv\" | tr ',' ' ' > \"/mnt/c/Users/macas/Desktop/High level programming/data.txt\"\n",
    "!cat data.txt"
   ]
  },
  {
   "cell_type": "markdown",
   "id": "344048c8",
   "metadata": {},
   "source": [
    "2\\.b How many even numbers are there?"
   ]
  },
  {
   "cell_type": "code",
   "execution_count": 8,
   "id": "ca8db21f-6363-42ab-9004-b70bb11a3728",
   "metadata": {},
   "outputs": [
    {
     "name": "stdout",
     "output_type": "stream",
     "text": [
      "10\n"
     ]
    }
   ],
   "source": [
    "!grep -o '[0-9]*' data.txt | awk '$1 % 2 == 0' | wc -l\n",
    "#remove all numbers of data ignoring other characters | awk filters even numbers | wc -l count previous data(even numbers)"
   ]
  },
  {
   "cell_type": "markdown",
   "id": "2a27138d",
   "metadata": {},
   "source": [
    "2\\.c Distinguish the entries on the basis of `sqrt(X^2 + Y^2 + Z^2)` is greater or smaller than `100*sqrt(3)/2`. Count the entries of each of the two groups "
   ]
  },
  {
   "cell_type": "code",
   "execution_count": 10,
   "id": "6ce67b73-29d3-4132-9e4b-07403956ed0f",
   "metadata": {},
   "outputs": [
    {
     "name": "stdout",
     "output_type": "stream",
     "text": [
      "Greater: 3 \n",
      "Smaller: 2\n"
     ]
    }
   ],
   "source": [
    "!awk '{x=$1; y=$2; z=$3; d=sqrt(x*x + y*y + z*z); if (d > 100*sqrt(3)/2) high++; else low++} END {print \"Greater:\", high, \"\\nSmaller:\", low}' data.txt\n",
    "#cuentan solo las 3 primeras columnas para x y z "
   ]
  },
  {
   "cell_type": "markdown",
   "id": "e937ef4e",
   "metadata": {},
   "source": [
    "2\\.d Make `n` copies of data.txt (with `n` an input parameter of the script), where the i-th copy has all the numbers divided by i (with `1<=i<=n`)."
   ]
  },
  {
   "cell_type": "code",
   "execution_count": 11,
   "id": "6fd74d6e-3fb1-42fa-90b3-358262286c19",
   "metadata": {},
   "outputs": [
    {
     "ename": "SyntaxError",
     "evalue": "invalid syntax. Perhaps you forgot a comma? (2872368220.py, line 4)",
     "output_type": "error",
     "traceback": [
      "\u001b[0;36m  Cell \u001b[0;32mIn[11], line 4\u001b[0;36m\u001b[0m\n\u001b[0;31m    if [ -z \"$1\" ];then\u001b[0m\n\u001b[0m         ^\u001b[0m\n\u001b[0;31mSyntaxError\u001b[0m\u001b[0;31m:\u001b[0m invalid syntax. Perhaps you forgot a comma?\n"
     ]
    }
   ],
   "source": [
    "#!/bin/bash\n",
    "\n",
    "# Verify if user proveded an input \n",
    "if [ -z \"$1\" ];then\n",
    "    echo \"Use: ./divide_data.sh <n>\"\n",
    "    exit 1\n",
    "fi\n",
    "\n",
    "# Obtain value of n from the first input\n",
    "n=$1\n",
    "\n",
    "# Verify that n is a positive number \n",
    "if ! [[ \"$n\" =~ ^[0-9]+$ ]] || [ \"$n\" -lt 1 ]; then\n",
    "    echo \"Error: Insert a number greater or equal than 1.\"\n",
    "    exit 1\n",
    "fi\n",
    "\n",
    "# Create n copies of data.txt with the numbers divided by i \n",
    "for ((i=1; i<=n; i++)); do\n",
    "    awk -v divisor=\"$i\" '{for (j=1; j<=NF; j++) $j=$j/divisor; print}' data.txt > \"data_divided_$i.txt\"\n",
    "    echo \"File data_divided_$i.txt created.\"\n",
    "done\n",
    "\n",
    "echo \"Done. Were generated $n files.\"\n",
    "####SCRIPT IN BASH / IN PYTHON OR JUPYTER ENVIRONMENT IS :\n",
    "\n"
   ]
  },
  {
   "cell_type": "code",
   "execution_count": 12,
   "id": "7db1999a-2fac-48c2-b0fb-f807a7c4d3c0",
   "metadata": {},
   "outputs": [
    {
     "name": "stdout",
     "output_type": "stream",
     "text": [
      "Archivo data_divided_1.txt creado.\n",
      "Archivo data_divided_2.txt creado.\n",
      "Archivo data_divided_3.txt creado.\n",
      "Proceso completado. Se generaron 3 archivos.\n"
     ]
    }
   ],
   "source": [
    "%%bash\n",
    "\n",
    "n=3  # Define el valor manualmente: in jupyter you can't use $1 arguments, is necessary define n manually. \n",
    "\n",
    "# Crear n copias de data.txt con los números divididos por i\n",
    "for ((i=1; i<=n; i++)); do\n",
    "    awk -v divisor=\"$i\" '{for (j=1; j<=NF; j++) $j=$j/divisor; print}' data.txt > \"data_divided_$i.txt\"\n",
    "    echo \"Archivo data_divided_$i.txt creado.\"\n",
    "done\n",
    "\n",
    "echo \"Proceso completado. Se generaron $n archivos.\"\n"
   ]
  },
  {
   "cell_type": "code",
   "execution_count": null,
   "id": "8b69fc71-f428-47a1-834b-2579b48de313",
   "metadata": {},
   "outputs": [],
   "source": [
    "#TO execute script in other terminal (Linux o wsl): 1 save script in a file divide_data.sh and then give an execution permission \n",
    "#chmod +x divide_data.sh \n",
    "#./divide_data.sh 5 #as n=5\n"
   ]
  }
 ],
 "metadata": {
  "kernelspec": {
   "display_name": "Python 3 (ipykernel)",
   "language": "python",
   "name": "python3"
  },
  "language_info": {
   "codemirror_mode": {
    "name": "ipython",
    "version": 3
   },
   "file_extension": ".py",
   "mimetype": "text/x-python",
   "name": "python",
   "nbconvert_exporter": "python",
   "pygments_lexer": "ipython3",
   "version": "3.12.3"
  }
 },
 "nbformat": 4,
 "nbformat_minor": 5
}
