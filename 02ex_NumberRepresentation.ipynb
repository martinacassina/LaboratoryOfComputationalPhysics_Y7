{
 "cells": [
  {
   "cell_type": "markdown",
   "metadata": {},
   "source": [
    "1\\. Write a function that converts number representation, bin<->dec<->hex. (Clearly using the corresponding python built-in functions is not fair..)"
   ]
  },
  {
   "cell_type": "code",
   "execution_count": 1,
   "metadata": {},
   "outputs": [
    {
     "name": "stdout",
     "output_type": "stream",
     "text": [
      "10\n",
      "a\n",
      "1010\n"
     ]
    }
   ],
   "source": [
    "def convert_number(value, from_base, to_base):\n",
    "    \"\"\"\n",
    "    Converts a number representation between binary, decimal, and hexadecimal.\n",
    "    :param value: The number as a string (binary or hexadecimal) or an integer (decimal).\n",
    "    :param from_base: The base of the input number ('bin', 'dec', 'hex').\n",
    "    :param to_base: The desired base ('bin', 'dec', 'hex').\n",
    "    :return: The converted number as a string.\n",
    "    \"\"\"\n",
    "    # Step 1: Convert the input to a decimal (base 10) integer\n",
    "    if from_base == 'bin':\n",
    "        # Binary to decimal\n",
    "        decimal = 0\n",
    "        for i, digit in enumerate(reversed(value)):\n",
    "            decimal += int(digit) * (2 ** i)\n",
    "    elif from_base == 'hex':\n",
    "        # Hexadecimal to decimal\n",
    "        hex_map = {'0': 0, '1': 1, '2': 2, '3': 3, '4': 4, '5': 5, '6': 6, '7': 7,\n",
    "                   '8': 8, '9': 9, 'a': 10, 'b': 11, 'c': 12, 'd': 13, 'e': 14, 'f': 15}\n",
    "        decimal = 0\n",
    "        for i, digit in enumerate(reversed(value.lower())):\n",
    "            decimal += hex_map[digit] * (16 ** i) #convertimos A en su valor decimal (10) usando hex_map\n",
    "    elif from_base == 'dec':\n",
    "        decimal = int(value)\n",
    "    else:\n",
    "        raise ValueError(\"Invalid 'from_base'. Use 'bin', 'dec', or 'hex'.\")\n",
    "\n",
    "    # Step 2: Convert from decimal to the desired base\n",
    "    if to_base == 'bin':\n",
    "        # Decimal to binary\n",
    "        if decimal == 0:\n",
    "            return '0'\n",
    "        binary = ''\n",
    "        while decimal > 0:\n",
    "            binary = str(decimal % 2) + binary\n",
    "            decimal //= 2\n",
    "        return binary                          #decimal to binary:ejemplo 10= 10/2=5 resto 0 -> 5/2=2 resto 1 -> 2/2=1 resto0 -> 1/2=0 resto 1 =1010\n",
    "    elif to_base == 'hex':\n",
    "        # Decimal to hexadecimal\n",
    "        if decimal == 0:\n",
    "            return '0'\n",
    "        hex_map = '0123456789abcdef'\n",
    "        hexadecimal = ''\n",
    "        while decimal > 0:\n",
    "            hexadecimal = hex_map[decimal % 16] + hexadecimal\n",
    "            decimal //= 16\n",
    "        return hexadecimal                     #ejemplo deci a hex: 255= 255/16=15 resto 15 - 16/15=0 resto 15 => 15-15-> FF\n",
    "    elif to_base == 'dec':\n",
    "        return str(decimal)\n",
    "    else:\n",
    "        raise ValueError(\"Invalid 'to_base'. Use 'bin', 'dec', or 'hex'.\")\n",
    "\n",
    "# Example usage\n",
    "print(convert_number('1010', 'bin', 'dec'))  # Binary to Decimal -> 10\n",
    "print(convert_number('10', 'dec', 'hex'))   # Decimal to Hexadecimal -> 'a'\n",
    "print(convert_number('a', 'hex', 'bin'))    # Hexadecimal to Binary -> '1010'\n"
   ]
  },
  {
   "cell_type": "code",
   "execution_count": null,
   "metadata": {},
   "outputs": [],
   "source": [
    "#da binario a decimale: 1010(b)=(1*2^3)+(0*2^2)+(1*2^1)+(0*2^0)"
   ]
  },
  {
   "cell_type": "markdown",
   "metadata": {},
   "source": [
    "2\\. Write a function that converts a 32 bit word into a single precision floating point (i.e. interprets the various bits as sign, mantissa and exponent)"
   ]
  },
  {
   "cell_type": "code",
   "execution_count": 2,
   "metadata": {},
   "outputs": [
    {
     "name": "stdout",
     "output_type": "stream",
     "text": [
      "5.0\n"
     ]
    }
   ],
   "source": [
    "def float_from_32bit(binary_word):\n",
    "    \"\"\"\n",
    "    Converts a 32-bit binary string into a single-precision floating-point number.\n",
    "    :param binary_word: A 32-bit binary string (e.g., '01000000101000000000000000000000').\n",
    "    :return: The floating-point number.\n",
    "    \"\"\"\n",
    "    if len(binary_word) != 32:\n",
    "        raise ValueError(\"Input must be a 32-bit binary string.\")\n",
    "\n",
    "    # Step 1: Extract the sign, exponent, and mantissa\n",
    "    sign_bit = int(binary_word[0])  # First bit\n",
    "    exponent_bits = binary_word[1:9]  # Next 8 bits\n",
    "    mantissa_bits = binary_word[9:]  # Remaining 23 bits\n",
    "\n",
    "    # Step 2: Compute the sign\n",
    "    sign = (-1) ** sign_bit  # 0 = positive, 1 = negative\n",
    "\n",
    "    # Step 3: Compute the exponent\n",
    "    exponent = int(exponent_bits, 2) - 127  # Exponent is biased by 127\n",
    "\n",
    "    # Step 4: Compute the mantissa\n",
    "    mantissa = 1  # Implicit leading 1 for normalized numbers\n",
    "    for i, bit in enumerate(mantissa_bits):\n",
    "        mantissa += int(bit) * (2 ** -(i + 1))  # Add each fractional bit contribution\n",
    "\n",
    "    # Step 5: Compute the final floating-point value\n",
    "    result = sign * mantissa * (2 ** exponent)\n",
    "    return result\n",
    "\n",
    "# Example usage:\n",
    "binary_word = \"01000000101000000000000000000000\"  # Binary for 5.0\n",
    "print(float_from_32bit(binary_word))  # Output: 5.0\n"
   ]
  },
  {
   "cell_type": "markdown",
   "metadata": {},
   "source": [
    "3\\. Write a program to determine the underflow and overflow limits (within a factor of 2) for python on your computer. \n",
    "\n",
    "**Tips**: define two variables inizialized to 1 and halve/double them enough time to exceed the under/over-flow limits  "
   ]
  },
  {
   "cell_type": "code",
   "execution_count": null,
   "metadata": {},
   "outputs": [],
   "source": [
    "def determine_limits():\n",
    "    # Initialize variables for underflow and overflow tests\n",
    "    underflow = 1.0\n",
    "    overflow = 1.0\n",
    "\n",
    "    # Find underflow limit (smallest positive number)\n",
    "    while underflow / 2.0 > 0:\n",
    "        underflow /= 2.0\n",
    "\n",
    "    # Find overflow limit (largest number)\n",
    "    while True:\n",
    "        try:\n",
    "            overflow *= 2.0\n",
    "        except OverflowError:\n",
    "            break\n",
    "\n",
    "    print(f\"Underflow limit: {underflow}\")\n",
    "    print(f\"Overflow limit: {overflow}\")\n",
    "\n",
    "determine_limits()\n",
    "def find_limits():\n",
    "    # Initialize variables for underflow and overflow tests\n",
    "    underflow = 1.0\n",
    "    overflow = 1.0\n",
    "\n",
    "    # Find underflow limit (smallest positive number)\n",
    "    while underflow > 0.0:\n",
    "        last_underflow = underflow  # Save the last non-zero value\n",
    "        underflow /= 2.0\n",
    "\n",
    "    # Find overflow limit (largest number)\n",
    "    while True:\n",
    "        try:\n",
    "            overflow *= 2.0\n",
    "        except OverflowError:\n",
    "            break\n",
    "        if overflow == float('inf'):  # Python represents overflow as 'inf'\n",
    "            break\n",
    "\n",
    "    print(f\"Underflow limit: {last_underflow}\")\n",
    "    print(f\"Overflow limit: {overflow}\")\n",
    "\n",
    "find_limits()\n"
   ]
  },
  {
   "cell_type": "markdown",
   "metadata": {},
   "source": [
    "4\\. Write a program to determine the machine precision\n",
    "\n",
    "**Tips**: define a new variable by adding a smaller and smaller value (proceeding similarly to prob. 2) to an original variable and check the point where the two are the same "
   ]
  },
  {
   "cell_type": "code",
   "execution_count": 1,
   "metadata": {},
   "outputs": [
    {
     "name": "stdout",
     "output_type": "stream",
     "text": [
      "Machine precision: 2.220446049250313e-16\n"
     ]
    }
   ],
   "source": [
    "def find_machine_precision():\n",
    "    epsilon = 1.0\n",
    "    while 1.0 + epsilon > 1.0:  # Check if 1.0 + epsilon is distinguishable from 1.0\n",
    "        last_epsilon = epsilon  # Store the last epsilon that worked\n",
    "        epsilon /= 2.0          # Make epsilon smaller\n",
    "\n",
    "    print(f\"Machine precision: {last_epsilon}\")\n",
    "\n",
    "find_machine_precision()\n",
    "\n"
   ]
  },
  {
   "cell_type": "markdown",
   "metadata": {},
   "source": [
    "5\\. Write a function that takes in input three parameters $a$, $b$ and $c$ and prints out the two solutions to the quadratic equation $ax^2+bx+c=0$ using the standard formula:\n",
    "$$\n",
    "x=\\frac{-b\\pm\\sqrt{b^2-4ac}}{2a}\n",
    "$$\n",
    "\n",
    "(a) use the program to compute the solution for $a=0.001$, $b=1000$ and $c=0.001$\n",
    "\n",
    "(b) re-express the standard solution formula by multiplying top and bottom by $-b\\mp\\sqrt{b^2-4ac}$ and again find the solution for $a=0.001$, $b=1000$ and $c=0.001$. How does it compare with what previously obtained? Why?\n",
    "\n",
    "(c) write a function that compute the roots of a quadratic equation accurately in all cases"
   ]
  },
  {
   "cell_type": "code",
   "execution_count": null,
   "metadata": {},
   "outputs": [],
   "source": [
    "#a)\n",
    "import math\n",
    "def solve_quadratic_standard(a, b, c):\n",
    "    dis= b**2 - 4*a*c #discriminant\n",
    "    if dis<0:\n",
    "        raise ValueError(\"The equation has complex roots.\")\n",
    "    sqrt_dis= math.sqrt(dis)\n",
    "    x1 = (-b + sqrt_dis) / (2 * a)\n",
    "    x2 = (-b - sqrt_dis) / (2 * a)\n",
    "    return x1, x2\n",
    "\n",
    "a, b, c = 0.001, 1000, 0.001\n",
    "solutions= solve_quadratic_standard(a, b, c)\n",
    "print(f\"Solutions: {solutions}\")\n"
   ]
  },
  {
   "cell_type": "code",
   "execution_count": null,
   "metadata": {},
   "outputs": [],
   "source": [
    "#b)\n",
    "import math\n",
    "def quadratic_roots_modified(a, b, c):\n",
    "    # Calculate discriminant\n",
    "    dis= b**2 - 4*a*c\n",
    "    if dis< 0:\n",
    "        raise ValueError(\"The equation has complex roots.\")\n",
    "    \n",
    "    # Compute roots using the modified formula\n",
    "    sqrt_dis = math.sqrt(dis)\n",
    "    x1 = (-2 * c) / (b + sqrt_dis)\n",
    "    x2 = (-2 * c) / (b - sqrt_dis)\n",
    "    \n",
    "    return x1, x2\n",
    "\n",
    "# Test with a = 0.001, b = 1000, c = 0.001\n",
    "a, b, c = 0.001, 1000, 0.001\n",
    "x1, x2 = quadratic_roots_modified(a, b, c)\n",
    "print(f\"Modified roots: x1 = {x1}, x2 = {x2}\")\n",
    "\n",
    "#If we compare both equations and its results, the solutions of the quadratic reexpressed equation are more accurate with numbers. \n",
    "#in the standard equations we obtain numbers similar with a little error. \n"
   ]
  },
  {
   "cell_type": "code",
   "execution_count": null,
   "metadata": {},
   "outputs": [],
   "source": [
    "#c)\n",
    "import math\n",
    "def solve_quadratic_accurately(a, b, c):\n",
    "    dis= b**2 - 4*a*c\n",
    "    if dis<0:\n",
    "        raise ValueError(\"The equation has complex roots.\")\n",
    "    sqrt_dis = math.sqrt(dis)\n",
    "    \n",
    "    if abs(b) > sqrt_dis:  # Si b es grande comparado con la raíz discriminante\n",
    "        # Use re-expressed formula for better accuracy\n",
    "        x1 = (-2 * c) / (b + sqrt_dis)\n",
    "        x2 = (-2 * c) / (b - sqrt_dis)\n",
    "    else:\n",
    "        # Use standard quadratic formula\n",
    "        x1 = (-b + sqrt_dis) / (2 * a)\n",
    "        x2 = (-b - sqrt_dis) / (2 * a)\n",
    "    \n",
    "    return x1,x2\n",
    "\n",
    "# Solve the equation using the accurate formula\n",
    "solutions_a = solve_quadratic_accurately(a, b, c)\n",
    "print(f\"Accurate solutions: {solutions_a}\")\n"
   ]
  },
  {
   "cell_type": "markdown",
   "metadata": {},
   "source": [
    "6\\. Write a program that implements the function $f(x)=x(x−1)$\n",
    "\n",
    "(a) Calculate the derivative of the function at the point $x = 1$ using the derivative definition:\n",
    "\n",
    "$$\n",
    "\\frac{{\\rm d}f}{{\\rm d}x} = \\lim_{\\delta\\to0} \\frac{f(x+\\delta)-f(x)}{\\delta}\n",
    "$$\n",
    "\n",
    "with $\\delta = 10^{−2}$. Calculate the true value of the same derivative analytically and compare with the answer your program gives. The two will not agree perfectly. Why not?\n",
    "\n",
    "(b) Repeat the calculation for $\\delta = 10^{−4}, 10^{−6}, 10^{−8}, 10^{−10}, 10^{−12}$ and $10^{−14}$. How does the accuracy scales with $\\delta$?"
   ]
  },
  {
   "cell_type": "code",
   "execution_count": 1,
   "metadata": {},
   "outputs": [
    {
     "name": "stdout",
     "output_type": "stream",
     "text": [
      "Numerical derivative with δ = 0.01: 1.010000000000001\n",
      "True derivative: 1\n",
      "Error: 0.010000000000000897\n",
      "\n",
      "Results for varying δ:\n",
      "δ = 1.0e-04, Numerical: 1.000099999999890, Error: 0.000099999999890\n",
      "δ = 1.0e-06, Numerical: 1.000000999917733, Error: 0.000000999917733\n",
      "δ = 1.0e-08, Numerical: 1.000000003922529, Error: 0.000000003922529\n",
      "δ = 1.0e-10, Numerical: 1.000000082840371, Error: 0.000000082840371\n",
      "δ = 1.0e-12, Numerical: 1.000088900583341, Error: 0.000088900583341\n",
      "δ = 1.0e-14, Numerical: 0.999200722162651, Error: 0.000799277837349\n"
     ]
    }
   ],
   "source": [
    "import numpy as np\n",
    "def f(x):\n",
    "    return x * (x - 1)\n",
    "\n",
    "def derivative_numerical(x, delta):\n",
    "    return (f(x + delta) - f(x)) / delta\n",
    "\n",
    "# Part (a): Compute derivative at x = 1 with δ = 10^-2\n",
    "x = 1\n",
    "delta = 10**-2\n",
    "numerical_derivative = derivative_numerical(x, delta)\n",
    "true_derivative = 1  # Analytical derivative of f(x) = 2x - 1; at x = 1, f'(x) = 1\n",
    "print(f\"Numerical derivative with δ = {delta}: {numerical_derivative}\")\n",
    "print(f\"True derivative: {true_derivative}\")\n",
    "print(f\"Error: {abs(numerical_derivative - true_derivative)}\")\n",
    "\n",
    "# Part (b): Repeat for different δ values\n",
    "delta_values = [10**-4, 10**-6, 10**-8, 10**-10, 10**-12, 10**-14]\n",
    "print(\"\\nResults for varying δ:\")\n",
    "for delta in delta_values:\n",
    "    numerical_derivative = derivative_numerical(x, delta)\n",
    "    error = abs(numerical_derivative - true_derivative)\n",
    "    print(f\"δ = {delta:.1e}, Numerical: {numerical_derivative:.15f}, Error: {error:.15f}\")\n",
    "\n",
    "\n",
    "#analysis: As delta decreases, the numerical derivative becomes more accurate at first, but after a certain point, \n",
    "#floating-point precision errors start to dominate. This is why the error remains small even when delta is very small. For extremely small \n",
    "#delta, you might see numerical instability or loss of precision, especially in cases where delta is too small for the machine to handle accurately. \n",
    "#This is why the error may not reduce further as delta becomes very small.\n",
    "\n"
   ]
  },
  {
   "cell_type": "markdown",
   "metadata": {},
   "source": [
    "7\\. Consider the integral of the semicircle of radius 1:\n",
    "$$\n",
    "I=\\int_{-1}^{1} \\sqrt(1-x^2) {\\rm d}x\n",
    "$$\n",
    "which it's known to be $I=\\frac{\\pi}{2}=1.57079632679...$.\n",
    "Alternatively we can use the Riemann definition of the integral:\n",
    "$$\n",
    "I=\\lim_{N\\to\\infty} \\sum_{k=1}^{N} h y_k \n",
    "$$\n",
    "\n",
    "with $h=2/N$ the width of each of the $N$ slices the domain is divided into and where\n",
    "$y_k$ is the value of the function at the $k-$th slice.\n",
    "\n",
    "(a) Write a programe to compute the integral with $N=100$. How does the result compares to the true value?\n",
    "\n",
    "(b) How much can $N$ be increased if the computation needs to be run in less than a second? What is the gain in running it for 1 minute? \n"
   ]
  },
  {
   "cell_type": "code",
   "execution_count": 2,
   "metadata": {},
   "outputs": [
    {
     "name": "stdout",
     "output_type": "stream",
     "text": [
      "Computed integral (N=100): 1.5712827762297958\n",
      "True value: 1.5707963267948966\n",
      "Error: 0.00048644943489928316\n",
      "\n",
      "Maximum N that can be computed in under 1 second: 3276800\n",
      "Computed integral (N=3276800): 1.5707963268771101\n",
      "Error with maximum N: 8.221356928572732e-11\n"
     ]
    }
   ],
   "source": [
    "\n",
    "import math\n",
    "import time\n",
    "\n",
    "def compute_integral(N):\n",
    "    h = 2 / N  # Width of each slice\n",
    "    result = 0\n",
    "    for k in range(N):\n",
    "        # Calculate the x value at the center of the k-th slice\n",
    "        x_k = -1 + (k + 0.5) * h\n",
    "        # Add the contribution of the slice to the sum\n",
    "        result += math.sqrt(1 - x_k**2) * h\n",
    "    return result\n",
    "\n",
    "# (a) Compute the integral with N = 100\n",
    "N = 100\n",
    "integral_value = compute_integral(N)\n",
    "true_value = math.pi / 2  # Known true value of the integral\n",
    "print(f\"Computed integral (N=100): {integral_value}\")\n",
    "print(f\"True value: {true_value}\")\n",
    "print(f\"Error: {abs(integral_value - true_value)}\")\n",
    "\n",
    "# (b) Determine the maximum N for a 1-second runtime\n",
    "start_time = time.time()\n",
    "max_N = 100\n",
    "while time.time() - start_time < 1:\n",
    "    compute_integral(max_N)\n",
    "    max_N *= 2\n",
    "\n",
    "max_N //= 2  # Reduce N to stay within the 1-second limit\n",
    "print(f\"\\nMaximum N that can be computed in under 1 second: {max_N}\")\n",
    "\n",
    "# Compute the integral with the maximum N\n",
    "integral_value_high_N = compute_integral(max_N)\n",
    "print(f\"Computed integral (N={max_N}): {integral_value_high_N}\")\n",
    "print(f\"Error with maximum N: {abs(integral_value_high_N - true_value)}\")\n",
    "\n"
   ]
  },
  {
   "cell_type": "code",
   "execution_count": null,
   "metadata": {},
   "outputs": [],
   "source": []
  }
 ],
 "metadata": {
  "kernelspec": {
   "display_name": "Python 3 (ipykernel)",
   "language": "python",
   "name": "python3"
  },
  "language_info": {
   "codemirror_mode": {
    "name": "ipython",
    "version": 3
   },
   "file_extension": ".py",
   "mimetype": "text/x-python",
   "name": "python",
   "nbconvert_exporter": "python",
   "pygments_lexer": "ipython3",
   "version": "3.12.3"
  }
 },
 "nbformat": 4,
 "nbformat_minor": 4
}
