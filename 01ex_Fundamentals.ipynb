{
 "cells": [
  {
   "cell_type": "markdown",
   "metadata": {},
   "source": [
    "0\\. Implement a function (whatever you want) and save it to a file (e.g. `function.py`). Import that file and use that function in this notebook.\n"
   ]
  },
  {
   "cell_type": "code",
   "execution_count": 6,
   "metadata": {},
   "outputs": [
    {
     "name": "stdout",
     "output_type": "stream",
     "text": [
      "C:\\Users\\macas\\Desktop\\High level programming\n",
      "The result is: 12\n"
     ]
    }
   ],
   "source": [
    "import os\n",
    "print(os.getcwd())\n",
    "\n",
    "def add_numbers(a, b):\n",
    "    \"\"\"Adds two numbers and returns the result.\"\"\"\n",
    "    return a + b\n",
    "\n",
    "result = add_numbers(9, 3)\n",
    "print(\"The result is:\", result)\n"
   ]
  },
  {
   "cell_type": "markdown",
   "metadata": {},
   "source": [
    "1\\. Write the following as a list comprehension"
   ]
  },
  {
   "cell_type": "code",
   "execution_count": 8,
   "metadata": {},
   "outputs": [
    {
     "name": "stdout",
     "output_type": "stream",
     "text": [
      "Caso 1: \n",
      "[(0, 0), (0, 1), (0, 2), (0, 3), (1, 0), (1, 1), (1, 2), (1, 3), (2, 0), (2, 1), (2, 2), (2, 3)]\n",
      "Caso 2: \n",
      "[0, 4, 16]\n"
     ]
    }
   ],
   "source": [
    "# 1Crea una lista de tuplas con las combinaciones de los valores de i (de 0 a 2) y j (de 0 a 3).\n",
    "print('Caso 1: ')\n",
    "ans = []\n",
    "for i in range(3):\n",
    "    for j in range(4):\n",
    "        ans.append((i, j))\n",
    "print (ans) #Para cada combinación de i y j, se agrega la tupla (i, j) a la lista ans.\n",
    "\n",
    "print('Caso 2: ')\n",
    "# 2 Filtra los números pares de 0 a 4 usando filter(). Luego, aplica lambda para elevar al cuadrado esos números usando map().\n",
    "ans = map(lambda x: x*x, filter(lambda x: x%2 == 0, range(5))) #La función lambda eleva al cuadrado cada número: 0*0, 2*2, 4*4.\n",
    "print (list(ans))\n"
   ]
  },
  {
   "cell_type": "markdown",
   "metadata": {},
   "source": [
    "2\\. Convert the following function into a pure function with no global variables or side effects"
   ]
  },
  {
   "cell_type": "code",
   "execution_count": 9,
   "metadata": {},
   "outputs": [
    {
     "name": "stdout",
     "output_type": "stream",
     "text": [
      "[1, 2, 3, 0, 1, 2, 3, 4]\n",
      "[1, 2, 3, 0, 1, 2, 3, 4]\n"
     ]
    }
   ],
   "source": [
    "x = 5\n",
    "def f(alist):\n",
    "    for i in range(x):\n",
    "         alist.append(i)\n",
    "    return alist\n",
    "\n",
    "alist = [1,2,3]\n",
    "ans = f(alist)\n",
    "print (ans)\n",
    "print (alist) # alist has been changed!"
   ]
  },
  {
   "cell_type": "code",
   "execution_count": 10,
   "metadata": {},
   "outputs": [
    {
     "name": "stdout",
     "output_type": "stream",
     "text": [
      "[1, 2, 3, 0, 1, 2, 3, 4]\n",
      "[1, 2, 3]\n"
     ]
    }
   ],
   "source": [
    "def f(alist, x):\n",
    "    return alist + [i for i in range(x)]\n",
    "\n",
    "alist = [1,2,3]\n",
    "x = 5\n",
    "ans = f(alist, x)\n",
    "\n",
    "print(ans)  # [1, 2, 3, 0, 1, 2, 3, 4]\n",
    "print(alist)  # [1, 2, 3] (alist has not been modified)\n"
   ]
  },
  {
   "cell_type": "markdown",
   "metadata": {},
   "source": [
    "3\\. Write a `decorator` hello that makes every wrapped function print “Hello!”, i.e. something like:\n",
    "\n",
    "```python\n",
    "@hello\n",
    "def square(x):\n",
    "    return x*x\n",
    "```\n",
    "\n"
   ]
  },
  {
   "cell_type": "code",
   "execution_count": 12,
   "metadata": {},
   "outputs": [
    {
     "name": "stdout",
     "output_type": "stream",
     "text": [
      "Hello!\n",
      "100\n"
     ]
    }
   ],
   "source": [
    "# Define the decorator\n",
    "def hello(func):\n",
    "    def wrapper(*args, **kwargs):\n",
    "        print(\"Hello!\")\n",
    "        return func(*args, **kwargs)\n",
    "    return wrapper\n",
    "\n",
    "# Apply the decorator to a function\n",
    "@hello\n",
    "def square(x):\n",
    "    return x * x\n",
    "\n",
    "# Call the decorated function\n",
    "result = square(10)  # This will print \"Hello!\" and then the result of square\n",
    "print(result)  \n"
   ]
  },
  {
   "cell_type": "markdown",
   "metadata": {},
   "source": [
    "4\\. Write the factorial function so that it a) does and b) does not use recursion."
   ]
  },
  {
   "cell_type": "code",
   "execution_count": 16,
   "metadata": {},
   "outputs": [
    {
     "name": "stdout",
     "output_type": "stream",
     "text": [
      "120\n",
      "6\n"
     ]
    }
   ],
   "source": [
    "def factorial_a(n):\n",
    "    if n == 0 or n == 1:  # Caso base: el factorial de 0 o 1 es 1\n",
    "        return 1\n",
    "    else:\n",
    "        return n * factorial_a(n - 1)  # Llamada recursiva\n",
    "print(factorial_a(5))  # Salida: 120\n",
    "\n",
    "def factorial_b(n):\n",
    "    result = 1\n",
    "    for i in range(1, n + 1):  # Empezamos desde 1 hasta n\n",
    "        result *= i  # Multiplicamos el resultado por el número actual\n",
    "    return result  # Retornamos el resultado final\n",
    "print(factorial_b(3))  "
   ]
  },
  {
   "cell_type": "markdown",
   "metadata": {},
   "source": [
    "5\\. Use HOFs (zip in particular) to compute the weight of a circle, a disk and a sphere, assuming different radii and different densities:\n",
    "\n",
    "```python\n",
    "densities = {\"Al\":[0.5,1,2],\"Fe\":[3,4,5],\"Pb\": [15,20,30]}\n",
    "radii = [1,2,3]\n",
    "```\n",
    "\n",
    "where the entries of the dictionary's values are the linear, superficial and volumetric densities of the materials respectively.\n",
    "\n",
    "In particular define a list of three lambda functions using a comprehension that computes the circumference, the area and the volume for a given radius.\n"
   ]
  },
  {
   "cell_type": "code",
   "execution_count": 20,
   "metadata": {},
   "outputs": [
    {
     "ename": "NameError",
     "evalue": "name 'material' is not defined",
     "output_type": "error",
     "traceback": [
      "\u001b[1;31m---------------------------------------------------------------------------\u001b[0m",
      "\u001b[1;31mNameError\u001b[0m                                 Traceback (most recent call last)",
      "Cell \u001b[1;32mIn[20], line 15\u001b[0m\n\u001b[0;32m      7\u001b[0m calculations \u001b[38;5;241m=\u001b[39m [\n\u001b[0;32m      8\u001b[0m     \u001b[38;5;28;01mlambda\u001b[39;00m r: \u001b[38;5;241m2\u001b[39m \u001b[38;5;241m*\u001b[39m math\u001b[38;5;241m.\u001b[39mpi \u001b[38;5;241m*\u001b[39m r,  \u001b[38;5;66;03m# Circumference of a circle\u001b[39;00m\n\u001b[0;32m      9\u001b[0m     \u001b[38;5;28;01mlambda\u001b[39;00m r: math\u001b[38;5;241m.\u001b[39mpi \u001b[38;5;241m*\u001b[39m r \u001b[38;5;241m*\u001b[39m\u001b[38;5;241m*\u001b[39m \u001b[38;5;241m2\u001b[39m,  \u001b[38;5;66;03m# Area of a disk\u001b[39;00m\n\u001b[0;32m     10\u001b[0m     \u001b[38;5;28;01mlambda\u001b[39;00m r: (\u001b[38;5;241m4\u001b[39m\u001b[38;5;241m/\u001b[39m\u001b[38;5;241m3\u001b[39m) \u001b[38;5;241m*\u001b[39m math\u001b[38;5;241m.\u001b[39mpi \u001b[38;5;241m*\u001b[39m r \u001b[38;5;241m*\u001b[39m\u001b[38;5;241m*\u001b[39m \u001b[38;5;241m3\u001b[39m  \u001b[38;5;66;03m# Volume of a sphere\u001b[39;00m\n\u001b[0;32m     11\u001b[0m ]\n\u001b[0;32m     13\u001b[0m \u001b[38;5;66;03m# Compute the weight (density * circumference/area/volume) for each material\u001b[39;00m\n\u001b[0;32m     14\u001b[0m weights \u001b[38;5;241m=\u001b[39m {\n\u001b[1;32m---> 15\u001b[0m     \u001b[43mmaterial\u001b[49m: [[density \u001b[38;5;241m*\u001b[39m func(radius) \u001b[38;5;28;01mfor\u001b[39;00m density, radius, func \u001b[38;5;129;01min\u001b[39;00m \u001b[38;5;28mzip\u001b[39m(densities[material], radii, calculations)]\n\u001b[0;32m     16\u001b[0m         \u001b[38;5;28;01mfor\u001b[39;00m material \u001b[38;5;129;01min\u001b[39;00m densities]}\n\u001b[0;32m     18\u001b[0m \u001b[38;5;66;03m# Print the weights for each material\u001b[39;00m\n\u001b[0;32m     19\u001b[0m \u001b[38;5;28;01mfor\u001b[39;00m material, weight_list \u001b[38;5;129;01min\u001b[39;00m weights\u001b[38;5;241m.\u001b[39mitems():\n",
      "\u001b[1;31mNameError\u001b[0m: name 'material' is not defined"
     ]
    }
   ],
   "source": [
    "import math\n",
    "# Densities and radii\n",
    "densities = {\"Al\": [0.5, 1, 2], \"Fe\": [3, 4, 5], \"Pb\": [15, 20, 30]}\n",
    "radii = [1, 2, 3]\n",
    "\n",
    "# List of lambda functions for circumference, area, and volume\n",
    "calculations = [\n",
    "    lambda r: 2 * math.pi * r,  # Circumference of a circle\n",
    "    lambda r: math.pi * r ** 2,  # Area of a disk\n",
    "    lambda r: (4/3) * math.pi * r ** 3  # Volume of a sphere\n",
    "]\n",
    "\n",
    "# Compute the weight (density * circumference/area/volume) for each material\n",
    "weights = {\n",
    "    material: [[density * func(radius) for density, radius, func in zip(densities[material], radii, calculations)]\n",
    "        for material in densities]}\n",
    "\n",
    "# Print the weights for each material\n",
    "for material, weight_list in weights.items():\n",
    "    print(f\"Weights for {material}:\")\n",
    "    for i, weight in enumerate(weight_list):\n",
    "        print(f\"  Radius {radii[i]}: {weight}\")\n"
   ]
  },
  {
   "cell_type": "markdown",
   "metadata": {},
   "source": [
    "6\\. Edit the class defintion to add an instance attribute of is_hungry = True to the Dog class. Then add a method called eat() which changes the value of is_hungry to False when called. Figure out the best way to feed each dog and then output “My dogs are hungry.” if all are hungry or “My dogs are not hungry.” if all are not hungry. The final output should look like this:\n",
    "\n",
    "`I have 3 dogs. \n",
    "Tom is 6. \n",
    "Fletcher is 7. \n",
    "Larry is 9. \n",
    "And they're all mammals, of course. \n",
    "My dogs are not hungry.\n",
    "`\n",
    "\n",
    "```python\n",
    "# Parent class\n",
    "class Dog:\n",
    "\n",
    "    # Class attribute\n",
    "    species = 'mammal'\n",
    "\n",
    "    # Initializer / Instance attributes\n",
    "    def __init__(self, name, age):\n",
    "        self.name = name\n",
    "        self.age = age\n",
    "\n",
    "    # instance method\n",
    "    def description(self):\n",
    "        return \"{} is {} years old\".format(self.name, self.age)\n",
    "\n",
    "    # instance method\n",
    "    def speak(self, sound):\n",
    "        return \"{} says {}\".format(self.name, sound)\n",
    "\n",
    "    # Method to change is_hungry to False\n",
    "    def eat(self):\n",
    "        self.is_hungry = False\n",
    "\n",
    "# Child class (inherits from Dog class)\n",
    "class RussellTerrier(Dog):\n",
    "    def run(self, speed):\n",
    "        return \"{} runs {}\".format(self.name, speed)\n",
    "\n",
    "# Child class (inherits from Dog class)\n",
    "class Bulldog(Dog):\n",
    "    def run(self, speed):\n",
    "        return \"{} runs {}\".format(self.name, speed)\n",
    "        \n"
   ]
  },
  {
   "cell_type": "code",
   "execution_count": 18,
   "metadata": {},
   "outputs": [
    {
     "name": "stdout",
     "output_type": "stream",
     "text": [
      "I have 3 dogs.\n",
      "Tom is 6 years old\n",
      "Fletcher is 7 years old\n",
      "Larry is 9 years old\n",
      "And they're all mammals, of course.\n",
      "My dogs are not hungry.\n"
     ]
    }
   ],
   "source": [
    "# Parent class\n",
    "class Dog:\n",
    "\n",
    "    # Class attribute\n",
    "    species = 'mammal'\n",
    "\n",
    "    # Initializer / Instance attributes\n",
    "    def __init__(self, name, age):\n",
    "        self.name = name\n",
    "        self.age = age\n",
    "        self.is_hungry=True\n",
    "\n",
    "    # instance method\n",
    "    def description(self):\n",
    "        return \"{} is {} years old\".format(self.name, self.age)\n",
    "\n",
    "    # instance method\n",
    "    def speak(self, sound):\n",
    "        return \"{} says {}\".format(self.name, sound)\n",
    "\n",
    "    # Method to change is_hungry to False\n",
    "    def eat(self):\n",
    "        self.is_hungry=False\n",
    "\n",
    "# Child class (inherits from Dog class)\n",
    "class RussellTerrier(Dog):\n",
    "    def run(self, speed):\n",
    "        return \"{} runs {}\".format(self.name, speed)\n",
    "\n",
    "# Child class (inherits from Dog class)\n",
    "class Bulldog(Dog):\n",
    "    def run(self, speed):\n",
    "        return \"{} runs {}\".format(self.name, speed)\n",
    "        \n",
    "# Create instances of dogs\n",
    "dog1 = Dog(\"Tom\", 6)\n",
    "dog2 = Dog(\"Fletcher\", 7)\n",
    "dog3 = Dog(\"Larry\", 9)\n",
    "\n",
    "# List of dogs\n",
    "dogs = [dog1, dog2, dog3]\n",
    "\n",
    "# Output the dogs' information\n",
    "print(f\"I have {len(dogs)} dogs.\")\n",
    "for dog in dogs:\n",
    "    print(dog.description())\n",
    "print(\"And they're all mammals, of course.\")\n",
    "\n",
    "# Feed the dogs\n",
    "for dog in dogs:\n",
    "    dog.eat()\n",
    "\n",
    "# Check if all dogs are hungry\n",
    "if all(not dog.is_hungry for dog in dogs):\n",
    "    print(\"My dogs are not hungry.\")\n",
    "else:\n",
    "    print(\"My dogs are hungry.\")"
   ]
  },
  {
   "cell_type": "code",
   "execution_count": null,
   "metadata": {},
   "outputs": [],
   "source": []
  }
 ],
 "metadata": {
  "kernelspec": {
   "display_name": "Python 3 (ipykernel)",
   "language": "python",
   "name": "python3"
  },
  "language_info": {
   "codemirror_mode": {
    "name": "ipython",
    "version": 3
   },
   "file_extension": ".py",
   "mimetype": "text/x-python",
   "name": "python",
   "nbconvert_exporter": "python",
   "pygments_lexer": "ipython3",
   "version": "3.12.6"
  }
 },
 "nbformat": 4,
 "nbformat_minor": 4
}
